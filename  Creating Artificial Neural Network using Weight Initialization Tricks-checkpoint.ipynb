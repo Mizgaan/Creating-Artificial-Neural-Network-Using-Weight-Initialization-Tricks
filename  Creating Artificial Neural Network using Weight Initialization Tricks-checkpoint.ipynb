{
 "cells": [
  {
   "cell_type": "code",
   "execution_count": 1,
   "metadata": {},
   "outputs": [
    {
     "data": {
      "text/html": [
       "<div>\n",
       "<style scoped>\n",
       "    .dataframe tbody tr th:only-of-type {\n",
       "        vertical-align: middle;\n",
       "    }\n",
       "\n",
       "    .dataframe tbody tr th {\n",
       "        vertical-align: top;\n",
       "    }\n",
       "\n",
       "    .dataframe thead th {\n",
       "        text-align: right;\n",
       "    }\n",
       "</style>\n",
       "<table border=\"1\" class=\"dataframe\">\n",
       "  <thead>\n",
       "    <tr style=\"text-align: right;\">\n",
       "      <th></th>\n",
       "      <th>RowNumber</th>\n",
       "      <th>CustomerId</th>\n",
       "      <th>Surname</th>\n",
       "      <th>CreditScore</th>\n",
       "      <th>Geography</th>\n",
       "      <th>Gender</th>\n",
       "      <th>Age</th>\n",
       "      <th>Tenure</th>\n",
       "      <th>Balance</th>\n",
       "      <th>NumOfProducts</th>\n",
       "      <th>HasCrCard</th>\n",
       "      <th>IsActiveMember</th>\n",
       "      <th>EstimatedSalary</th>\n",
       "      <th>Exited</th>\n",
       "    </tr>\n",
       "  </thead>\n",
       "  <tbody>\n",
       "    <tr>\n",
       "      <th>0</th>\n",
       "      <td>1</td>\n",
       "      <td>15634602</td>\n",
       "      <td>Hargrave</td>\n",
       "      <td>619</td>\n",
       "      <td>France</td>\n",
       "      <td>Female</td>\n",
       "      <td>42</td>\n",
       "      <td>2</td>\n",
       "      <td>0.00</td>\n",
       "      <td>1</td>\n",
       "      <td>1</td>\n",
       "      <td>1</td>\n",
       "      <td>101348.88</td>\n",
       "      <td>1</td>\n",
       "    </tr>\n",
       "    <tr>\n",
       "      <th>1</th>\n",
       "      <td>2</td>\n",
       "      <td>15647311</td>\n",
       "      <td>Hill</td>\n",
       "      <td>608</td>\n",
       "      <td>Spain</td>\n",
       "      <td>Female</td>\n",
       "      <td>41</td>\n",
       "      <td>1</td>\n",
       "      <td>83807.86</td>\n",
       "      <td>1</td>\n",
       "      <td>0</td>\n",
       "      <td>1</td>\n",
       "      <td>112542.58</td>\n",
       "      <td>0</td>\n",
       "    </tr>\n",
       "    <tr>\n",
       "      <th>2</th>\n",
       "      <td>3</td>\n",
       "      <td>15619304</td>\n",
       "      <td>Onio</td>\n",
       "      <td>502</td>\n",
       "      <td>France</td>\n",
       "      <td>Female</td>\n",
       "      <td>42</td>\n",
       "      <td>8</td>\n",
       "      <td>159660.80</td>\n",
       "      <td>3</td>\n",
       "      <td>1</td>\n",
       "      <td>0</td>\n",
       "      <td>113931.57</td>\n",
       "      <td>1</td>\n",
       "    </tr>\n",
       "    <tr>\n",
       "      <th>3</th>\n",
       "      <td>4</td>\n",
       "      <td>15701354</td>\n",
       "      <td>Boni</td>\n",
       "      <td>699</td>\n",
       "      <td>France</td>\n",
       "      <td>Female</td>\n",
       "      <td>39</td>\n",
       "      <td>1</td>\n",
       "      <td>0.00</td>\n",
       "      <td>2</td>\n",
       "      <td>0</td>\n",
       "      <td>0</td>\n",
       "      <td>93826.63</td>\n",
       "      <td>0</td>\n",
       "    </tr>\n",
       "    <tr>\n",
       "      <th>4</th>\n",
       "      <td>5</td>\n",
       "      <td>15737888</td>\n",
       "      <td>Mitchell</td>\n",
       "      <td>850</td>\n",
       "      <td>Spain</td>\n",
       "      <td>Female</td>\n",
       "      <td>43</td>\n",
       "      <td>2</td>\n",
       "      <td>125510.82</td>\n",
       "      <td>1</td>\n",
       "      <td>1</td>\n",
       "      <td>1</td>\n",
       "      <td>79084.10</td>\n",
       "      <td>0</td>\n",
       "    </tr>\n",
       "  </tbody>\n",
       "</table>\n",
       "</div>"
      ],
      "text/plain": [
       "   RowNumber  CustomerId   Surname  CreditScore Geography  Gender  Age  \\\n",
       "0          1    15634602  Hargrave          619    France  Female   42   \n",
       "1          2    15647311      Hill          608     Spain  Female   41   \n",
       "2          3    15619304      Onio          502    France  Female   42   \n",
       "3          4    15701354      Boni          699    France  Female   39   \n",
       "4          5    15737888  Mitchell          850     Spain  Female   43   \n",
       "\n",
       "   Tenure    Balance  NumOfProducts  HasCrCard  IsActiveMember  \\\n",
       "0       2       0.00              1          1               1   \n",
       "1       1   83807.86              1          0               1   \n",
       "2       8  159660.80              3          1               0   \n",
       "3       1       0.00              2          0               0   \n",
       "4       2  125510.82              1          1               1   \n",
       "\n",
       "   EstimatedSalary  Exited  \n",
       "0        101348.88       1  \n",
       "1        112542.58       0  \n",
       "2        113931.57       1  \n",
       "3         93826.63       0  \n",
       "4         79084.10       0  "
      ]
     },
     "execution_count": 1,
     "metadata": {},
     "output_type": "execute_result"
    }
   ],
   "source": [
    "import numpy as np\n",
    "import pandas as pd\n",
    "import matplotlib.pyplot as plt\n",
    "\n",
    "#dataset=pd.read_csv(\"Churn_Modelling.csv\")\n",
    "dataset=pd.read_csv(\"C:\\\\Users\\\\Mizgaan\\\\Downloads\\\\Churn_Modelling.csv\")\n",
    "dataset.head()"
   ]
  },
  {
   "cell_type": "code",
   "execution_count": 2,
   "metadata": {},
   "outputs": [
    {
     "name": "stdout",
     "output_type": "stream",
     "text": [
      "Index(['RowNumber', 'CustomerId', 'Surname', 'CreditScore', 'Geography',\n",
      "       'Gender', 'Age', 'Tenure', 'Balance', 'NumOfProducts', 'HasCrCard',\n",
      "       'IsActiveMember', 'EstimatedSalary', 'Exited'],\n",
      "      dtype='object')\n"
     ]
    }
   ],
   "source": [
    "print((dataset.columns))\n",
    "\"\"\"Independent and dependent features\"\"\"\n",
    "X = dataset.iloc[:, 3:13]\n",
    "\n",
    "y = dataset.iloc[:, 13]\n"
   ]
  },
  {
   "cell_type": "markdown",
   "metadata": {},
   "source": [
    "## Create dummy varibles"
   ]
  },
  {
   "cell_type": "code",
   "execution_count": 3,
   "metadata": {},
   "outputs": [],
   "source": [
    "geography=pd.get_dummies(X[\"Geography\"],drop_first=True)\n",
    "#print(geography)\n",
    "gender=pd.get_dummies(X['Gender'],drop_first=True)\n"
   ]
  },
  {
   "cell_type": "markdown",
   "metadata": {},
   "source": [
    "## Concatenate the Data Frames"
   ]
  },
  {
   "cell_type": "code",
   "execution_count": 4,
   "metadata": {},
   "outputs": [
    {
     "data": {
      "text/html": [
       "<div>\n",
       "<style scoped>\n",
       "    .dataframe tbody tr th:only-of-type {\n",
       "        vertical-align: middle;\n",
       "    }\n",
       "\n",
       "    .dataframe tbody tr th {\n",
       "        vertical-align: top;\n",
       "    }\n",
       "\n",
       "    .dataframe thead th {\n",
       "        text-align: right;\n",
       "    }\n",
       "</style>\n",
       "<table border=\"1\" class=\"dataframe\">\n",
       "  <thead>\n",
       "    <tr style=\"text-align: right;\">\n",
       "      <th></th>\n",
       "      <th>CreditScore</th>\n",
       "      <th>Geography</th>\n",
       "      <th>Gender</th>\n",
       "      <th>Age</th>\n",
       "      <th>Tenure</th>\n",
       "      <th>Balance</th>\n",
       "      <th>NumOfProducts</th>\n",
       "      <th>HasCrCard</th>\n",
       "      <th>IsActiveMember</th>\n",
       "      <th>EstimatedSalary</th>\n",
       "      <th>Germany</th>\n",
       "      <th>Spain</th>\n",
       "      <th>Male</th>\n",
       "    </tr>\n",
       "  </thead>\n",
       "  <tbody>\n",
       "    <tr>\n",
       "      <th>0</th>\n",
       "      <td>619</td>\n",
       "      <td>France</td>\n",
       "      <td>Female</td>\n",
       "      <td>42</td>\n",
       "      <td>2</td>\n",
       "      <td>0.00</td>\n",
       "      <td>1</td>\n",
       "      <td>1</td>\n",
       "      <td>1</td>\n",
       "      <td>101348.88</td>\n",
       "      <td>0</td>\n",
       "      <td>0</td>\n",
       "      <td>0</td>\n",
       "    </tr>\n",
       "    <tr>\n",
       "      <th>1</th>\n",
       "      <td>608</td>\n",
       "      <td>Spain</td>\n",
       "      <td>Female</td>\n",
       "      <td>41</td>\n",
       "      <td>1</td>\n",
       "      <td>83807.86</td>\n",
       "      <td>1</td>\n",
       "      <td>0</td>\n",
       "      <td>1</td>\n",
       "      <td>112542.58</td>\n",
       "      <td>0</td>\n",
       "      <td>1</td>\n",
       "      <td>0</td>\n",
       "    </tr>\n",
       "    <tr>\n",
       "      <th>2</th>\n",
       "      <td>502</td>\n",
       "      <td>France</td>\n",
       "      <td>Female</td>\n",
       "      <td>42</td>\n",
       "      <td>8</td>\n",
       "      <td>159660.80</td>\n",
       "      <td>3</td>\n",
       "      <td>1</td>\n",
       "      <td>0</td>\n",
       "      <td>113931.57</td>\n",
       "      <td>0</td>\n",
       "      <td>0</td>\n",
       "      <td>0</td>\n",
       "    </tr>\n",
       "    <tr>\n",
       "      <th>3</th>\n",
       "      <td>699</td>\n",
       "      <td>France</td>\n",
       "      <td>Female</td>\n",
       "      <td>39</td>\n",
       "      <td>1</td>\n",
       "      <td>0.00</td>\n",
       "      <td>2</td>\n",
       "      <td>0</td>\n",
       "      <td>0</td>\n",
       "      <td>93826.63</td>\n",
       "      <td>0</td>\n",
       "      <td>0</td>\n",
       "      <td>0</td>\n",
       "    </tr>\n",
       "    <tr>\n",
       "      <th>4</th>\n",
       "      <td>850</td>\n",
       "      <td>Spain</td>\n",
       "      <td>Female</td>\n",
       "      <td>43</td>\n",
       "      <td>2</td>\n",
       "      <td>125510.82</td>\n",
       "      <td>1</td>\n",
       "      <td>1</td>\n",
       "      <td>1</td>\n",
       "      <td>79084.10</td>\n",
       "      <td>0</td>\n",
       "      <td>1</td>\n",
       "      <td>0</td>\n",
       "    </tr>\n",
       "  </tbody>\n",
       "</table>\n",
       "</div>"
      ],
      "text/plain": [
       "   CreditScore Geography  Gender  Age  Tenure    Balance  NumOfProducts  \\\n",
       "0          619    France  Female   42       2       0.00              1   \n",
       "1          608     Spain  Female   41       1   83807.86              1   \n",
       "2          502    France  Female   42       8  159660.80              3   \n",
       "3          699    France  Female   39       1       0.00              2   \n",
       "4          850     Spain  Female   43       2  125510.82              1   \n",
       "\n",
       "   HasCrCard  IsActiveMember  EstimatedSalary  Germany  Spain  Male  \n",
       "0          1               1        101348.88        0      0     0  \n",
       "1          0               1        112542.58        0      1     0  \n",
       "2          1               0        113931.57        0      0     0  \n",
       "3          0               0         93826.63        0      0     0  \n",
       "4          1               1         79084.10        0      1     0  "
      ]
     },
     "execution_count": 4,
     "metadata": {},
     "output_type": "execute_result"
    }
   ],
   "source": [
    "X=pd.concat([X,geography,gender],axis=1)\n",
    "X.head()"
   ]
  },
  {
   "cell_type": "markdown",
   "metadata": {},
   "source": [
    "## Drop Unnecessary columns"
   ]
  },
  {
   "cell_type": "code",
   "execution_count": 5,
   "metadata": {},
   "outputs": [],
   "source": [
    "X.drop(['Geography','Gender'],axis=1,inplace=True)"
   ]
  },
  {
   "cell_type": "markdown",
   "metadata": {},
   "source": [
    "# Splitting the dataset into the Training set and Test set"
   ]
  },
  {
   "cell_type": "code",
   "execution_count": 23,
   "metadata": {},
   "outputs": [],
   "source": [
    "from sklearn.model_selection import train_test_split\n",
    "\n",
    "X_train, X_test,y_train,y_test =train_test_split(X,y,test_size=0.2,random_state=0)"
   ]
  },
  {
   "cell_type": "markdown",
   "metadata": {},
   "source": [
    "# Feature Scaling"
   ]
  },
  {
   "cell_type": "code",
   "execution_count": 24,
   "metadata": {},
   "outputs": [],
   "source": [
    "from sklearn.preprocessing import StandardScaler\n",
    "sc = StandardScaler()\n",
    "X_train = sc.fit_transform(X_train)\n",
    "X_test = sc.transform(X_test)"
   ]
  },
  {
   "cell_type": "markdown",
   "metadata": {},
   "source": [
    "# Part 2 - Now let's make the ANN!\n",
    "\n",
    "# Importing the Keras libraries and packages"
   ]
  },
  {
   "cell_type": "code",
   "execution_count": 26,
   "metadata": {},
   "outputs": [],
   "source": [
    "import keras\n",
    "from keras.models import Sequential\n",
    "from keras.layers import Dense\n",
    "from keras.layers import LeakyReLU,PReLU,ELU\n",
    "from keras.layers import Dropout\n",
    "from keras import optimizers"
   ]
  },
  {
   "cell_type": "markdown",
   "metadata": {},
   "source": [
    "# Initialising the ANN"
   ]
  },
  {
   "cell_type": "code",
   "execution_count": 27,
   "metadata": {},
   "outputs": [],
   "source": [
    "classifier = Sequential()"
   ]
  },
  {
   "cell_type": "code",
   "execution_count": 30,
   "metadata": {},
   "outputs": [],
   "source": [
    "#model.add(Activation('softmax'))\n",
    "#output_dim=> named as units\n",
    "# Adding the input layer and the first hidden layer\n",
    "classifier.add(Dense(units = 10, kernel_initializer = 'he_uniform',activation='relu',input_dim = 11))\n",
    "classifier.add(Dropout(0.3)) # To avoid Overfitting we use Drop Out Layer\n",
    "\n",
    "# Adding the second hidden layer\n",
    "classifier.add(Dense(units = 15, kernel_initializer = 'he_uniform',activation='relu'))\n",
    "classifier.add(Dropout(0.4))\n",
    "\n",
    "# Adding the Third hidden layer\n",
    "#classifier.add(Dense(units = 15, kernel_initializer = 'he_uniform',activation='relu'))\n",
    "#classifier.add(Dropout(0.3))\n",
    "\n",
    "\n",
    "# Adding the output layer\n",
    "classifier.add(Dense(units = 1, kernel_initializer = 'glorot_uniform', activation = 'sigmoid'))\n",
    "\n",
    "# Compiling the ANN\n",
    "classifier.compile(optimizer='adam', loss = 'binary_crossentropy', metrics = ['accuracy'])\n"
   ]
  },
  {
   "cell_type": "code",
   "execution_count": 31,
   "metadata": {},
   "outputs": [
    {
     "name": "stdout",
     "output_type": "stream",
     "text": [
      "Train on 5359 samples, validate on 2641 samples\n",
      "Epoch 1/100\n",
      "5359/5359 [==============================] - 4s 796us/step - loss: 0.5844 - accuracy: 0.7376 - val_loss: 0.4846 - val_accuracy: 0.7955\n",
      "Epoch 2/100\n",
      "5359/5359 [==============================] - 3s 477us/step - loss: 0.4926 - accuracy: 0.7946 - val_loss: 0.4588 - val_accuracy: 0.7955\n",
      "Epoch 3/100\n",
      "5359/5359 [==============================] - 2s 464us/step - loss: 0.4729 - accuracy: 0.7962 - val_loss: 0.4526 - val_accuracy: 0.7955\n",
      "Epoch 4/100\n",
      "5359/5359 [==============================] - 3s 470us/step - loss: 0.4614 - accuracy: 0.7962 - val_loss: 0.4460 - val_accuracy: 0.7955\n",
      "Epoch 5/100\n",
      "5359/5359 [==============================] - 3s 486us/step - loss: 0.4547 - accuracy: 0.7962 - val_loss: 0.4438 - val_accuracy: 0.7955\n",
      "Epoch 6/100\n",
      "5359/5359 [==============================] - 2s 464us/step - loss: 0.4437 - accuracy: 0.7962 - val_loss: 0.4380 - val_accuracy: 0.7955\n",
      "Epoch 7/100\n",
      "5359/5359 [==============================] - 3s 483us/step - loss: 0.4399 - accuracy: 0.7962 - val_loss: 0.4346 - val_accuracy: 0.7955\n",
      "Epoch 8/100\n",
      "5359/5359 [==============================] - 3s 491us/step - loss: 0.4339 - accuracy: 0.7962 - val_loss: 0.4276 - val_accuracy: 0.7955\n",
      "Epoch 9/100\n",
      "5359/5359 [==============================] - 3s 477us/step - loss: 0.4267 - accuracy: 0.7962 - val_loss: 0.4228 - val_accuracy: 0.7955\n",
      "Epoch 10/100\n",
      "5359/5359 [==============================] - 3s 473us/step - loss: 0.4175 - accuracy: 0.7962 - val_loss: 0.4176 - val_accuracy: 0.7955\n",
      "Epoch 11/100\n",
      "5359/5359 [==============================] - 3s 475us/step - loss: 0.4184 - accuracy: 0.7962 - val_loss: 0.4117 - val_accuracy: 0.7955\n",
      "Epoch 12/100\n",
      "5359/5359 [==============================] - 3s 475us/step - loss: 0.4102 - accuracy: 0.7962 - val_loss: 0.4075 - val_accuracy: 0.7955\n",
      "Epoch 13/100\n",
      "5359/5359 [==============================] - 3s 474us/step - loss: 0.4063 - accuracy: 0.7962 - val_loss: 0.4073 - val_accuracy: 0.7955\n",
      "Epoch 14/100\n",
      "5359/5359 [==============================] - 3s 470us/step - loss: 0.4014 - accuracy: 0.7962 - val_loss: 0.4023 - val_accuracy: 0.7955\n",
      "Epoch 15/100\n",
      "5359/5359 [==============================] - 3s 481us/step - loss: 0.3926 - accuracy: 0.7962 - val_loss: 0.4041 - val_accuracy: 0.7955\n",
      "Epoch 16/100\n",
      "5359/5359 [==============================] - 3s 477us/step - loss: 0.3928 - accuracy: 0.7962 - val_loss: 0.4004 - val_accuracy: 0.7955\n",
      "Epoch 17/100\n",
      "5359/5359 [==============================] - 3s 475us/step - loss: 0.3903 - accuracy: 0.7962 - val_loss: 0.3991 - val_accuracy: 0.7955\n",
      "Epoch 18/100\n",
      "5359/5359 [==============================] - 3s 467us/step - loss: 0.3887 - accuracy: 0.7962 - val_loss: 0.4019 - val_accuracy: 0.7955\n",
      "Epoch 19/100\n",
      "5359/5359 [==============================] - 3s 472us/step - loss: 0.3897 - accuracy: 0.7962 - val_loss: 0.4017 - val_accuracy: 0.7955\n",
      "Epoch 20/100\n",
      "5359/5359 [==============================] - 3s 486us/step - loss: 0.3868 - accuracy: 0.7962 - val_loss: 0.3978 - val_accuracy: 0.7955\n",
      "Epoch 21/100\n",
      "5359/5359 [==============================] - 3s 470us/step - loss: 0.3879 - accuracy: 0.7962 - val_loss: 0.4037 - val_accuracy: 0.7955\n",
      "Epoch 22/100\n",
      "5359/5359 [==============================] - 3s 469us/step - loss: 0.3815 - accuracy: 0.7962 - val_loss: 0.4009 - val_accuracy: 0.7955\n",
      "Epoch 23/100\n",
      "5359/5359 [==============================] - 3s 477us/step - loss: 0.3865 - accuracy: 0.7962 - val_loss: 0.3962 - val_accuracy: 0.7955\n",
      "Epoch 24/100\n",
      "5359/5359 [==============================] - 3s 484us/step - loss: 0.3834 - accuracy: 0.8115 - val_loss: 0.3945 - val_accuracy: 0.7955\n",
      "Epoch 25/100\n",
      "5359/5359 [==============================] - 3s 487us/step - loss: 0.3812 - accuracy: 0.8317 - val_loss: 0.4032 - val_accuracy: 0.8304\n",
      "Epoch 26/100\n",
      "5359/5359 [==============================] - 3s 532us/step - loss: 0.3822 - accuracy: 0.8365 - val_loss: 0.3978 - val_accuracy: 0.8345\n",
      "Epoch 27/100\n",
      "5359/5359 [==============================] - 3s 499us/step - loss: 0.3785 - accuracy: 0.8360 - val_loss: 0.3933 - val_accuracy: 0.8349\n",
      "Epoch 28/100\n",
      "5359/5359 [==============================] - 3s 471us/step - loss: 0.3813 - accuracy: 0.8367 - val_loss: 0.4000 - val_accuracy: 0.8311\n",
      "Epoch 29/100\n",
      "5359/5359 [==============================] - 3s 484us/step - loss: 0.3809 - accuracy: 0.8365 - val_loss: 0.3988 - val_accuracy: 0.8300\n",
      "Epoch 30/100\n",
      "5359/5359 [==============================] - 3s 468us/step - loss: 0.3805 - accuracy: 0.8418 - val_loss: 0.3946 - val_accuracy: 0.8334\n",
      "Epoch 31/100\n",
      "5359/5359 [==============================] - 3s 482us/step - loss: 0.3743 - accuracy: 0.8384 - val_loss: 0.3943 - val_accuracy: 0.8334\n",
      "Epoch 32/100\n",
      "5359/5359 [==============================] - 2s 466us/step - loss: 0.3766 - accuracy: 0.8399 - val_loss: 0.3965 - val_accuracy: 0.8296\n",
      "Epoch 33/100\n",
      "5359/5359 [==============================] - 3s 542us/step - loss: 0.3791 - accuracy: 0.8375 - val_loss: 0.3922 - val_accuracy: 0.8345\n",
      "Epoch 34/100\n",
      "5359/5359 [==============================] - 3s 531us/step - loss: 0.3763 - accuracy: 0.8412 - val_loss: 0.4007 - val_accuracy: 0.8330\n",
      "Epoch 35/100\n",
      "5359/5359 [==============================] - 3s 564us/step - loss: 0.3790 - accuracy: 0.8401 - val_loss: 0.3950 - val_accuracy: 0.8368\n",
      "Epoch 36/100\n",
      "5359/5359 [==============================] - 3s 471us/step - loss: 0.3810 - accuracy: 0.8377 - val_loss: 0.4134 - val_accuracy: 0.8277\n",
      "Epoch 37/100\n",
      "5359/5359 [==============================] - 3s 534us/step - loss: 0.3808 - accuracy: 0.8384 - val_loss: 0.3958 - val_accuracy: 0.8289\n",
      "Epoch 38/100\n",
      "5359/5359 [==============================] - 3s 497us/step - loss: 0.3748 - accuracy: 0.8419 - val_loss: 0.4004 - val_accuracy: 0.8277\n",
      "Epoch 39/100\n",
      "5359/5359 [==============================] - 2s 446us/step - loss: 0.3736 - accuracy: 0.8386 - val_loss: 0.3915 - val_accuracy: 0.8345\n",
      "Epoch 40/100\n",
      "5359/5359 [==============================] - 2s 429us/step - loss: 0.3774 - accuracy: 0.8410 - val_loss: 0.3933 - val_accuracy: 0.8342\n",
      "Epoch 41/100\n",
      "5359/5359 [==============================] - 3s 474us/step - loss: 0.3720 - accuracy: 0.8419 - val_loss: 0.3910 - val_accuracy: 0.8349\n",
      "Epoch 42/100\n",
      "5359/5359 [==============================] - 2s 439us/step - loss: 0.3696 - accuracy: 0.8397 - val_loss: 0.3917 - val_accuracy: 0.8376\n",
      "Epoch 43/100\n",
      "5359/5359 [==============================] - 2s 433us/step - loss: 0.3751 - accuracy: 0.8423 - val_loss: 0.3914 - val_accuracy: 0.8372\n",
      "Epoch 44/100\n",
      "5359/5359 [==============================] - 2s 429us/step - loss: 0.3702 - accuracy: 0.8427 - val_loss: 0.3998 - val_accuracy: 0.8307\n",
      "Epoch 45/100\n",
      "5359/5359 [==============================] - 2s 429us/step - loss: 0.3753 - accuracy: 0.8406 - val_loss: 0.3940 - val_accuracy: 0.8357\n",
      "Epoch 46/100\n",
      "5359/5359 [==============================] - 2s 429us/step - loss: 0.3705 - accuracy: 0.8406 - val_loss: 0.3966 - val_accuracy: 0.8334\n",
      "Epoch 47/100\n",
      "5359/5359 [==============================] - 2s 426us/step - loss: 0.3717 - accuracy: 0.8423 - val_loss: 0.3949 - val_accuracy: 0.8323\n",
      "Epoch 48/100\n",
      "5359/5359 [==============================] - 2s 429us/step - loss: 0.3733 - accuracy: 0.8397 - val_loss: 0.3974 - val_accuracy: 0.8338\n",
      "Epoch 49/100\n",
      "5359/5359 [==============================] - 2s 435us/step - loss: 0.3699 - accuracy: 0.8429 - val_loss: 0.3946 - val_accuracy: 0.8342\n",
      "Epoch 50/100\n",
      "5359/5359 [==============================] - 2s 436us/step - loss: 0.3744 - accuracy: 0.8438 - val_loss: 0.3897 - val_accuracy: 0.8342\n",
      "Epoch 51/100\n",
      "5359/5359 [==============================] - 2s 434us/step - loss: 0.3683 - accuracy: 0.8468 - val_loss: 0.3992 - val_accuracy: 0.8319\n",
      "Epoch 52/100\n",
      "5359/5359 [==============================] - 2s 426us/step - loss: 0.3710 - accuracy: 0.8447 - val_loss: 0.3956 - val_accuracy: 0.8319\n",
      "Epoch 53/100\n",
      "5359/5359 [==============================] - 2s 452us/step - loss: 0.3683 - accuracy: 0.8416 - val_loss: 0.4016 - val_accuracy: 0.8292\n",
      "Epoch 54/100\n",
      "5359/5359 [==============================] - 3s 512us/step - loss: 0.3693 - accuracy: 0.8468 - val_loss: 0.4009 - val_accuracy: 0.8300\n",
      "Epoch 55/100\n",
      "5359/5359 [==============================] - 3s 494us/step - loss: 0.3694 - accuracy: 0.8470 - val_loss: 0.4093 - val_accuracy: 0.8258\n",
      "Epoch 56/100\n"
     ]
    },
    {
     "name": "stdout",
     "output_type": "stream",
     "text": [
      "5359/5359 [==============================] - 3s 520us/step - loss: 0.3710 - accuracy: 0.8496 - val_loss: 0.3943 - val_accuracy: 0.8353\n",
      "Epoch 57/100\n",
      "5359/5359 [==============================] - 3s 469us/step - loss: 0.3689 - accuracy: 0.8487 - val_loss: 0.4010 - val_accuracy: 0.8296\n",
      "Epoch 58/100\n",
      "5359/5359 [==============================] - 2s 437us/step - loss: 0.3682 - accuracy: 0.8475 - val_loss: 0.3917 - val_accuracy: 0.8376\n",
      "Epoch 59/100\n",
      "5359/5359 [==============================] - 2s 434us/step - loss: 0.3703 - accuracy: 0.8483 - val_loss: 0.3943 - val_accuracy: 0.8323\n",
      "Epoch 60/100\n",
      "5359/5359 [==============================] - 2s 435us/step - loss: 0.3676 - accuracy: 0.8472 - val_loss: 0.3936 - val_accuracy: 0.8353\n",
      "Epoch 61/100\n",
      "5359/5359 [==============================] - 2s 446us/step - loss: 0.3696 - accuracy: 0.8496 - val_loss: 0.4002 - val_accuracy: 0.8285\n",
      "Epoch 62/100\n",
      "5359/5359 [==============================] - 2s 450us/step - loss: 0.3651 - accuracy: 0.8507 - val_loss: 0.3990 - val_accuracy: 0.8262\n",
      "Epoch 63/100\n",
      "5359/5359 [==============================] - 2s 439us/step - loss: 0.3642 - accuracy: 0.8496 - val_loss: 0.4023 - val_accuracy: 0.8307\n",
      "Epoch 64/100\n",
      "5359/5359 [==============================] - 2s 436us/step - loss: 0.3689 - accuracy: 0.8479 - val_loss: 0.3912 - val_accuracy: 0.8429\n",
      "Epoch 65/100\n",
      "5359/5359 [==============================] - 2s 436us/step - loss: 0.3693 - accuracy: 0.8520 - val_loss: 0.3965 - val_accuracy: 0.8338\n",
      "Epoch 66/100\n",
      "5359/5359 [==============================] - 2s 439us/step - loss: 0.3632 - accuracy: 0.8515 - val_loss: 0.3951 - val_accuracy: 0.8364\n",
      "Epoch 67/100\n",
      "5359/5359 [==============================] - 2s 434us/step - loss: 0.3592 - accuracy: 0.8505 - val_loss: 0.3951 - val_accuracy: 0.8319\n",
      "Epoch 68/100\n",
      "5359/5359 [==============================] - 2s 429us/step - loss: 0.3633 - accuracy: 0.8462 - val_loss: 0.3948 - val_accuracy: 0.8304\n",
      "Epoch 69/100\n",
      "5359/5359 [==============================] - 2s 437us/step - loss: 0.3660 - accuracy: 0.8505 - val_loss: 0.3950 - val_accuracy: 0.8342\n",
      "Epoch 70/100\n",
      "5359/5359 [==============================] - 2s 431us/step - loss: 0.3655 - accuracy: 0.8489 - val_loss: 0.3962 - val_accuracy: 0.8368\n",
      "Epoch 71/100\n",
      "5359/5359 [==============================] - 2s 443us/step - loss: 0.3657 - accuracy: 0.8492 - val_loss: 0.3943 - val_accuracy: 0.8387\n",
      "Epoch 72/100\n",
      "5359/5359 [==============================] - 2s 430us/step - loss: 0.3615 - accuracy: 0.8475 - val_loss: 0.3954 - val_accuracy: 0.8360\n",
      "Epoch 73/100\n",
      "5359/5359 [==============================] - 2s 440us/step - loss: 0.3647 - accuracy: 0.8524 - val_loss: 0.3945 - val_accuracy: 0.8372\n",
      "Epoch 74/100\n",
      "5359/5359 [==============================] - 2s 432us/step - loss: 0.3632 - accuracy: 0.8520 - val_loss: 0.4097 - val_accuracy: 0.8273\n",
      "Epoch 75/100\n",
      "5359/5359 [==============================] - 2s 435us/step - loss: 0.3581 - accuracy: 0.8524 - val_loss: 0.3915 - val_accuracy: 0.8391\n",
      "Epoch 76/100\n",
      "5359/5359 [==============================] - 2s 431us/step - loss: 0.3607 - accuracy: 0.8548 - val_loss: 0.3981 - val_accuracy: 0.8349\n",
      "Epoch 77/100\n",
      "5359/5359 [==============================] - 2s 433us/step - loss: 0.3635 - accuracy: 0.8569 - val_loss: 0.3923 - val_accuracy: 0.8330\n",
      "Epoch 78/100\n",
      "5359/5359 [==============================] - 2s 431us/step - loss: 0.3684 - accuracy: 0.8507 - val_loss: 0.3913 - val_accuracy: 0.8398\n",
      "Epoch 79/100\n",
      "5359/5359 [==============================] - 2s 432us/step - loss: 0.3621 - accuracy: 0.8507 - val_loss: 0.3940 - val_accuracy: 0.8360\n",
      "Epoch 80/100\n",
      "5359/5359 [==============================] - 2s 430us/step - loss: 0.3667 - accuracy: 0.8541 - val_loss: 0.3979 - val_accuracy: 0.8345\n",
      "Epoch 81/100\n",
      "5359/5359 [==============================] - 2s 434us/step - loss: 0.3621 - accuracy: 0.8507 - val_loss: 0.4011 - val_accuracy: 0.8304\n",
      "Epoch 82/100\n",
      "5359/5359 [==============================] - 2s 439us/step - loss: 0.3664 - accuracy: 0.8541 - val_loss: 0.3897 - val_accuracy: 0.8425\n",
      "Epoch 83/100\n",
      "5359/5359 [==============================] - 2s 417us/step - loss: 0.3634 - accuracy: 0.8513 - val_loss: 0.3954 - val_accuracy: 0.8398\n",
      "Epoch 84/100\n",
      "5359/5359 [==============================] - 3s 492us/step - loss: 0.3642 - accuracy: 0.8539 - val_loss: 0.3924 - val_accuracy: 0.8372\n",
      "Epoch 85/100\n",
      "5359/5359 [==============================] - 3s 500us/step - loss: 0.3648 - accuracy: 0.8502 - val_loss: 0.3934 - val_accuracy: 0.8432\n",
      "Epoch 86/100\n",
      "5359/5359 [==============================] - 2s 430us/step - loss: 0.3623 - accuracy: 0.8537 - val_loss: 0.3992 - val_accuracy: 0.8330\n",
      "Epoch 87/100\n",
      "5359/5359 [==============================] - 2s 441us/step - loss: 0.3571 - accuracy: 0.8520 - val_loss: 0.3990 - val_accuracy: 0.8383\n",
      "Epoch 88/100\n",
      "5359/5359 [==============================] - 2s 437us/step - loss: 0.3616 - accuracy: 0.8537 - val_loss: 0.4067 - val_accuracy: 0.8254\n",
      "Epoch 89/100\n",
      "5359/5359 [==============================] - 2s 439us/step - loss: 0.3615 - accuracy: 0.8572 - val_loss: 0.4064 - val_accuracy: 0.8289\n",
      "Epoch 90/100\n",
      "5359/5359 [==============================] - 2s 436us/step - loss: 0.3617 - accuracy: 0.8556 - val_loss: 0.3972 - val_accuracy: 0.8364\n",
      "Epoch 91/100\n",
      "5359/5359 [==============================] - 2s 432us/step - loss: 0.3598 - accuracy: 0.8515 - val_loss: 0.3906 - val_accuracy: 0.8398\n",
      "Epoch 92/100\n",
      "5359/5359 [==============================] - 2s 430us/step - loss: 0.3619 - accuracy: 0.8518 - val_loss: 0.3917 - val_accuracy: 0.8425\n",
      "Epoch 93/100\n",
      "5359/5359 [==============================] - 2s 430us/step - loss: 0.3595 - accuracy: 0.8580 - val_loss: 0.4003 - val_accuracy: 0.8285\n",
      "Epoch 94/100\n",
      "5359/5359 [==============================] - 2s 436us/step - loss: 0.3592 - accuracy: 0.8554 - val_loss: 0.3939 - val_accuracy: 0.8372\n",
      "Epoch 95/100\n",
      "5359/5359 [==============================] - 2s 439us/step - loss: 0.3537 - accuracy: 0.8541 - val_loss: 0.4002 - val_accuracy: 0.8345\n",
      "Epoch 96/100\n",
      "5359/5359 [==============================] - 2s 435us/step - loss: 0.3643 - accuracy: 0.8561 - val_loss: 0.3900 - val_accuracy: 0.8451\n",
      "Epoch 97/100\n",
      "5359/5359 [==============================] - 2s 434us/step - loss: 0.3619 - accuracy: 0.8524 - val_loss: 0.4006 - val_accuracy: 0.8357\n",
      "Epoch 98/100\n",
      "5359/5359 [==============================] - 2s 439us/step - loss: 0.3592 - accuracy: 0.8533 - val_loss: 0.4008 - val_accuracy: 0.8345\n",
      "Epoch 99/100\n",
      "5359/5359 [==============================] - 2s 443us/step - loss: 0.3586 - accuracy: 0.8546 - val_loss: 0.3938 - val_accuracy: 0.8387\n",
      "Epoch 100/100\n",
      "5359/5359 [==============================] - 2s 432us/step - loss: 0.3586 - accuracy: 0.8584 - val_loss: 0.3920 - val_accuracy: 0.8387\n"
     ]
    }
   ],
   "source": [
    "# Fitting the ANN to the Training set\n",
    "model_history=classifier.fit(X_train, y_train,validation_split=0.33, batch_size = 10, epochs = 100)\n"
   ]
  },
  {
   "cell_type": "code",
   "execution_count": 29,
   "metadata": {},
   "outputs": [
    {
     "data": {
      "text/plain": [
       "(8000, 11)"
      ]
     },
     "execution_count": 29,
     "metadata": {},
     "output_type": "execute_result"
    }
   ],
   "source": [
    "X_train.shape"
   ]
  },
  {
   "cell_type": "markdown",
   "metadata": {},
   "source": [
    "# Part 3 - Making the predictions and evaluating the model\n",
    "\n",
    "# Predicting the Test set results"
   ]
  },
  {
   "cell_type": "code",
   "execution_count": 35,
   "metadata": {},
   "outputs": [],
   "source": [
    "y_pred = classifier.predict(X_test)\n",
    "y_pred = (y_pred > 0.5)"
   ]
  },
  {
   "cell_type": "markdown",
   "metadata": {},
   "source": [
    "# Making the Confusion Matrix\n"
   ]
  },
  {
   "cell_type": "code",
   "execution_count": 36,
   "metadata": {},
   "outputs": [
    {
     "data": {
      "text/plain": [
       "array([[1454,  141],\n",
       "       [ 177,  228]], dtype=int64)"
      ]
     },
     "execution_count": 36,
     "metadata": {},
     "output_type": "execute_result"
    }
   ],
   "source": [
    "from sklearn.metrics import confusion_matrix\n",
    "cm = confusion_matrix(y_test, y_pred)\n",
    "cm"
   ]
  },
  {
   "cell_type": "markdown",
   "metadata": {},
   "source": [
    "# Calculate the Accuracy\n"
   ]
  },
  {
   "cell_type": "code",
   "execution_count": 37,
   "metadata": {},
   "outputs": [
    {
     "data": {
      "text/plain": [
       "0.841"
      ]
     },
     "execution_count": 37,
     "metadata": {},
     "output_type": "execute_result"
    }
   ],
   "source": [
    "from sklearn.metrics import accuracy_score\n",
    "score=accuracy_score(y_pred,y_test)\n",
    "score"
   ]
  },
  {
   "cell_type": "code",
   "execution_count": 38,
   "metadata": {},
   "outputs": [
    {
     "name": "stdout",
     "output_type": "stream",
     "text": [
      "dict_keys(['val_loss', 'val_accuracy', 'loss', 'accuracy'])\n"
     ]
    }
   ],
   "source": [
    "# list all data in history\n",
    "\n",
    "print(model_history.history.keys())"
   ]
  },
  {
   "cell_type": "code",
   "execution_count": 39,
   "metadata": {},
   "outputs": [
    {
     "data": {
      "image/png": "[encoded data removed]",
      "text/plain": [
       "<Figure size 432x288 with 1 Axes>"
      ]
     },
     "metadata": {
      "needs_background": "light"
     },
     "output_type": "display_data"
    }
   ],
   "source": [
    "plt.plot(model_history.history['accuracy'])\n",
    "plt.plot(model_history.history['val_accuracy'])\n",
    "plt.title('model accuracy')\n",
    "plt.ylabel('accuracy')\n",
    "plt.xlabel('epoch')\n",
    "plt.legend(['train', 'test'], loc='upper left')\n",
    "plt.show()"
   ]
  },
  {
   "cell_type": "code",
   "execution_count": 41,
   "metadata": {},
   "outputs": [
    {
     "data": {
      "image/png": "[encoded data removed]",
      "text/plain": [
       "<Figure size 432x288 with 1 Axes>"
      ]
     },
     "metadata": {
      "needs_background": "light"
     },
     "output_type": "display_data"
    }
   ],
   "source": [
    "# summarize history for loss\n",
    "plt.plot(model_history.history['loss'],'o')\n",
    "plt.plot(model_history.history['val_loss'],'o')\n",
    "plt.title('model loss')\n",
    "plt.ylabel('loss')\n",
    "plt.xlabel('epoch')\n",
    "plt.legend(['train', 'test'], loc='upper left')\n",
    "plt.show()"
   ]
  }
 ],
 "metadata": {
  "kernelspec": {
   "display_name": "Python 3",
   "language": "python",
   "name": "python3"
  },
  "language_info": {
   "codemirror_mode": {
    "name": "ipython",
    "version": 3
   },
   "file_extension": ".py",
   "mimetype": "text/x-python",
   "name": "python",
   "nbconvert_exporter": "python",
   "pygments_lexer": "ipython3",
   "version": "3.7.3"
  }
 },
 "nbformat": 4,
 "nbformat_minor": 2
}
